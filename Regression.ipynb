{
 "cells": [
  {
   "cell_type": "code",
   "execution_count": 1,
   "metadata": {},
   "outputs": [],
   "source": [
    "#Import necessary libraries\n",
    "import pandas as pd\n",
    "import numpy as np\n",
    "import matplotlib.pyplot as plt\n",
    "import seaborn as sns\n",
    "import scipy.stats as stats\n",
    "from sklearn.model_selection import train_test_split\n",
    "from sklearn.preprocessing import StandardScaler\n",
    "from sklearn.linear_model import LinearRegression\n",
    "from sklearn.svm import SVR\n",
    "from sklearn.neural_network import MLPRegressor\n",
    "from sklearn.tree import DecisionTreeRegressor\n",
    "from sklearn.ensemble import RandomForestRegressor, GradientBoostingRegressor\n",
    "from sklearn.metrics import mean_squared_error, r2_score"
   ]
  },
  {
   "cell_type": "code",
   "execution_count": 3,
   "metadata": {},
   "outputs": [],
   "source": [
    "# Read the dataset\n",
    "df = pd.read_csv(\"inputs-for-ml/final_ml_data.csv\")"
   ]
  },
  {
   "cell_type": "code",
   "execution_count": 4,
   "metadata": {},
   "outputs": [],
   "source": [
    "# Select features and target\n",
    "X = df[[\"slope\", \"elevation\", \"north_gps\", \"east_gps\", \"vertical_gps\", \"coherence\",\"los_insar\"]]\n",
    "y = df[\"bias\"]"
   ]
  },
  {
   "cell_type": "code",
   "execution_count": 5,
   "metadata": {},
   "outputs": [],
   "source": [
    "# Standardize features\n",
    "scaler = StandardScaler()\n",
    "X_scaled = scaler.fit_transform(X)\n",
    "\n",
    "# Split into training and testing sets\n",
    "X_train, X_test, y_train, y_test = train_test_split(\n",
    "    X_scaled, y, test_size=0.3, random_state=42\n",
    ")"
   ]
  },
  {
   "cell_type": "code",
   "execution_count": 6,
   "metadata": {},
   "outputs": [],
   "source": [
    "# Define regression models\n",
    "models = {\n",
    "    \"Linear Regression\": LinearRegression(),\n",
    "    \"Support Vector Regression\": SVR(),\n",
    "    \"Neural Network Regression\": MLPRegressor(hidden_layer_sizes=(100,), max_iter=1000, random_state=42),\n",
    "    \"Decision Tree Regression\": DecisionTreeRegressor(random_state=42),\n",
    "    \"Random Forest Regression\": RandomForestRegressor(n_estimators=100, random_state=42),\n",
    "    \"Gradient Boosting Regression\": GradientBoostingRegressor(n_estimators=100, random_state=42)\n",
    "}"
   ]
  },
  {
   "cell_type": "code",
   "execution_count": null,
   "metadata": {},
   "outputs": [],
   "source": [
    "# Initialize performance list\n",
    "performance_list = []\n",
    "\n",
    "# Train and evaluate models\n",
    "for name, model in models.items():\n",
    "    model.fit(X_train, y_train)\n",
    "    y_pred = model.predict(X_test)\n",
    "\n",
    "    rmse = np.sqrt(mean_squared_error(y_test, y_pred))\n",
    "    r2 = r2_score(y_test, y_pred)\n",
    "    performance_list.append({\"Model\": name, \"RMSE\": rmse, \"R2\": r2})\n",
    "\n",
    "    # Plot predicted vs actual and Q-Q plot\n",
    "    fig, axes = plt.subplots(1, 2, figsize=(12, 6))\n",
    "\n",
    "    # Scatter plot: Predicted vs Actual\n",
    "    sns.regplot(\n",
    "        x=y_test, y=y_pred,\n",
    "        scatter_kws={\"s\": 20},\n",
    "        line_kws={\"color\": \"red\", \"linestyle\": \"--\"},\n",
    "        ax=axes[0]\n",
    "    )\n",
    "    axes[0].set_xlabel(\"Actual Bias\")\n",
    "    axes[0].set_ylabel(\"Predicted Bias\")\n",
    "    axes[0].set_title(f\"{name} - Predicted vs Actual\")\n",
    "    axes[0].grid(True)\n",
    "    axes[0].set_aspect('equal', adjustable='box')\n",
    "\n",
    "    textstr = f\"RMSE: {rmse:.3f}\\nR²: {r2:.3f}\"\n",
    "    axes[0].text(\n",
    "        0.05, 0.95, textstr,\n",
    "        transform=axes[0].transAxes,\n",
    "        fontsize=10,\n",
    "        verticalalignment='top',\n",
    "        bbox=dict(boxstyle=\"round\", facecolor=\"white\", alpha=0.7)\n",
    "    )\n",
    "\n",
    "    # Q-Q plot: Residuals\n",
    "    residuals = y_test - y_pred\n",
    "    stats.probplot(residuals, dist=\"norm\", plot=axes[1])\n",
    "    axes[1].get_lines()[1].set_color('red')\n",
    "    axes[1].set_xlabel(\"Actual Bias Quantiles\")\n",
    "    axes[1].set_ylabel(\"Estimated Bias Quantiles\")\n",
    "    axes[1].set_title(f\"{name} - Q-Q Plot of Residuals\")\n",
    "    axes[1].grid(True)\n",
    "\n",
    "    plt.suptitle(f\"{name} - Performance Analysis\", fontsize=14, weight='bold')\n",
    "    plt.tight_layout(rect=[0, 0, 1, 0.95], w_pad=4)\n",
    "    plt.show()"
   ]
  },
  {
   "cell_type": "code",
   "execution_count": null,
   "metadata": {},
   "outputs": [],
   "source": [
    "# Create performance DataFrame\n",
    "performance_df = pd.DataFrame(performance_list)\n",
    "\n",
    "# Clean and format columns\n",
    "performance_df.rename(columns=lambda x: x.strip().upper(), inplace=True)\n",
    "performance_df = performance_df.round({\"RMSE\": 3, \"R2\": 3})\n",
    "performance_df = performance_df.sort_values(by=\"R2\", ascending=False).reset_index(drop=True)\n",
    "performance_df.index += 1\n",
    "performance_df.index.name = \"Rank\"\n",
    "\n",
    "# Print performance table\n",
    "print(performance_df)"
   ]
  }
 ],
 "metadata": {
  "kernelspec": {
   "display_name": "ml",
   "language": "python",
   "name": "python3"
  },
  "language_info": {
   "codemirror_mode": {
    "name": "ipython",
    "version": 3
   },
   "file_extension": ".py",
   "mimetype": "text/x-python",
   "name": "python",
   "nbconvert_exporter": "python",
   "pygments_lexer": "ipython3",
   "version": "3.13.2"
  }
 },
 "nbformat": 4,
 "nbformat_minor": 2
}
